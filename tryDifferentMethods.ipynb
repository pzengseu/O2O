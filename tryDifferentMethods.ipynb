{
 "metadata": {
  "name": ""
 },
 "nbformat": 3,
 "nbformat_minor": 0,
 "worksheets": [
  {
   "cells": [
    {
     "cell_type": "code",
     "collapsed": false,
     "input": [
      "%matplotlib inline\n",
      "import numpy as np\n",
      "import pandas as pd\n",
      "import time"
     ],
     "language": "python",
     "metadata": {},
     "outputs": [],
     "prompt_number": 174
    },
    {
     "cell_type": "markdown",
     "metadata": {},
     "source": [
      "# Distance\u968f\u673a\u751f\u6210\u8ddd\u79bb"
     ]
    },
    {
     "cell_type": "code",
     "collapsed": false,
     "input": [
      "train = pd.read_csv('offlineTrainfeatures.csv')"
     ],
     "language": "python",
     "metadata": {},
     "outputs": [],
     "prompt_number": 133
    },
    {
     "cell_type": "code",
     "collapsed": false,
     "input": [
      "gbd = train.groupby(df.Distance)"
     ],
     "language": "python",
     "metadata": {},
     "outputs": [],
     "prompt_number": 134
    },
    {
     "cell_type": "code",
     "collapsed": false,
     "input": [
      "distance_prob = gbd.size()[0:11] / sum(df.Distance!=11)"
     ],
     "language": "python",
     "metadata": {},
     "outputs": [],
     "prompt_number": 135
    },
    {
     "cell_type": "code",
     "collapsed": false,
     "input": [
      "import random"
     ],
     "language": "python",
     "metadata": {},
     "outputs": [],
     "prompt_number": 136
    },
    {
     "cell_type": "code",
     "collapsed": false,
     "input": [
      "# \u4ea7\u751f0-10\u7684\u8ddd\u79bb\u968f\u673a\u6570\n",
      "def generateRandomDistance():\n",
      "    r = random.random()\n",
      "    for i, w in enumerate(distance_prob):\n",
      "        r = r - w\n",
      "        if r < 0: return i"
     ],
     "language": "python",
     "metadata": {},
     "outputs": [],
     "prompt_number": 137
    },
    {
     "cell_type": "code",
     "collapsed": false,
     "input": [
      "train.Distance = train.Distance.map(lambda x: generateRandomDistance() if x==11 else x)"
     ],
     "language": "python",
     "metadata": {},
     "outputs": [],
     "prompt_number": 138
    },
    {
     "cell_type": "code",
     "collapsed": false,
     "input": [
      "train.to_csv('offlineTrainfeaturesDistanceRandom.csv', index=False)"
     ],
     "language": "python",
     "metadata": {},
     "outputs": [],
     "prompt_number": 139
    },
    {
     "cell_type": "code",
     "collapsed": false,
     "input": [
      "test = pd.read_csv('offlineTestfeatures.csv')"
     ],
     "language": "python",
     "metadata": {},
     "outputs": [],
     "prompt_number": 140
    },
    {
     "cell_type": "code",
     "collapsed": false,
     "input": [
      "test.Distance = test.Distance.map(lambda x: generateRandomDistance() if x==11 else x)"
     ],
     "language": "python",
     "metadata": {},
     "outputs": [],
     "prompt_number": 141
    },
    {
     "cell_type": "code",
     "collapsed": false,
     "input": [
      "test.to_csv('offlineTestfeaturesDistanceRandom.csv', index=False)"
     ],
     "language": "python",
     "metadata": {},
     "outputs": [],
     "prompt_number": 165
    },
    {
     "cell_type": "code",
     "collapsed": false,
     "input": [
      "x = train[[\"Distance\",\"week\",\"userRate\",\"merchantRate\",\"discountRate\"]]\n",
      "y = train.result\n",
      "x_predict = test[[\"Distance\",\"week\",\"userRate\",\"merchantRate\",\"discountRate\"]]"
     ],
     "language": "python",
     "metadata": {},
     "outputs": [],
     "prompt_number": 156
    },
    {
     "cell_type": "code",
     "collapsed": false,
     "input": [
      "def processOfflineTest(file):\n",
      "    offlineTest = pd.read_csv(file, header=None)\n",
      "    offlineTest.columns = ['User_id', 'Merchant_id', 'Coupon_id', 'Discount_rate', 'Distance', 'Date_received']\n",
      "    offlineTest['week'] = offlineTest['Date_received'].map(lambda x: time.strptime(str(x), '%Y%m%d')[6]).astype(int)\n",
      "    offlineTest['week'] = offlineTest['week'].fillna(7) #7\u4ee3\u8868\u65e5\u671f\u4e3a\u7a7a\n",
      "\n",
      "    offlineTest['Distance'] = offlineTest['Distance'].map(lambda x: 11 if x=='null' else x)\n",
      "    return offlineTest"
     ],
     "language": "python",
     "metadata": {},
     "outputs": [],
     "prompt_number": 172
    },
    {
     "cell_type": "code",
     "collapsed": false,
     "input": [
      "offlineTest = processOfflineTest('ccf_offline_stage1_test_revised.csv')"
     ],
     "language": "python",
     "metadata": {},
     "outputs": [],
     "prompt_number": 175
    },
    {
     "cell_type": "markdown",
     "metadata": {},
     "source": [
      "# LogisticRegression"
     ]
    },
    {
     "cell_type": "code",
     "collapsed": false,
     "input": [
      "from sklearn.linear_model import LogisticRegression as LR"
     ],
     "language": "python",
     "metadata": {},
     "outputs": [],
     "prompt_number": 158
    },
    {
     "cell_type": "code",
     "collapsed": false,
     "input": [
      "model = LR()"
     ],
     "language": "python",
     "metadata": {},
     "outputs": [],
     "prompt_number": 159
    },
    {
     "cell_type": "code",
     "collapsed": false,
     "input": [
      "model.fit(x.values, y.values)"
     ],
     "language": "python",
     "metadata": {},
     "outputs": [
      {
       "metadata": {},
       "output_type": "pyout",
       "prompt_number": 160,
       "text": [
        "LogisticRegression(C=1.0, class_weight=None, dual=False, fit_intercept=True,\n",
        "          intercept_scaling=1, penalty='l2', random_state=None, tol=0.0001)"
       ]
      }
     ],
     "prompt_number": 160
    },
    {
     "cell_type": "code",
     "collapsed": false,
     "input": [
      "y_predict = pd.DataFrame(model.predict_proba(x_predict.values))[1]"
     ],
     "language": "python",
     "metadata": {},
     "outputs": [],
     "prompt_number": 181
    },
    {
     "cell_type": "code",
     "collapsed": false,
     "input": [
      "offlineTest['result'] = y_predict"
     ],
     "language": "python",
     "metadata": {},
     "outputs": [],
     "prompt_number": 183
    },
    {
     "cell_type": "code",
     "collapsed": false,
     "input": [
      "result = offlineTest[['User_id', 'Coupon_id', 'Date_received', 'result']]"
     ],
     "language": "python",
     "metadata": {},
     "outputs": [],
     "prompt_number": 184
    },
    {
     "cell_type": "code",
     "collapsed": false,
     "input": [
      "result.to_csv('result_logistic_distanceRandom_v5.csv', index=False, header=None)"
     ],
     "language": "python",
     "metadata": {},
     "outputs": [],
     "prompt_number": 186
    },
    {
     "cell_type": "code",
     "collapsed": false,
     "input": [
      "ff = pd.read_csv('result_logistic_distanceRandom_v5.csv')"
     ],
     "language": "python",
     "metadata": {},
     "outputs": [],
     "prompt_number": 187
    },
    {
     "cell_type": "code",
     "collapsed": false,
     "input": [
      "ff[:20]"
     ],
     "language": "python",
     "metadata": {},
     "outputs": [
      {
       "html": [
        "<div style=\"max-height:1000px;max-width:1500px;overflow:auto;\">\n",
        "<table border=\"1\" class=\"dataframe\">\n",
        "  <thead>\n",
        "    <tr style=\"text-align: right;\">\n",
        "      <th></th>\n",
        "      <th>4129537</th>\n",
        "      <th>9983</th>\n",
        "      <th>20160712</th>\n",
        "      <th>0.010785116880387266</th>\n",
        "    </tr>\n",
        "  </thead>\n",
        "  <tbody>\n",
        "    <tr>\n",
        "      <th>0 </th>\n",
        "      <td> 6949378</td>\n",
        "      <td>  3429</td>\n",
        "      <td> 20160706</td>\n",
        "      <td> 0.966164</td>\n",
        "    </tr>\n",
        "    <tr>\n",
        "      <th>1 </th>\n",
        "      <td> 2166529</td>\n",
        "      <td>  6928</td>\n",
        "      <td> 20160727</td>\n",
        "      <td> 0.004761</td>\n",
        "    </tr>\n",
        "    <tr>\n",
        "      <th>2 </th>\n",
        "      <td> 2166529</td>\n",
        "      <td>  1808</td>\n",
        "      <td> 20160727</td>\n",
        "      <td> 0.005148</td>\n",
        "    </tr>\n",
        "    <tr>\n",
        "      <th>3 </th>\n",
        "      <td> 6172162</td>\n",
        "      <td>  6500</td>\n",
        "      <td> 20160708</td>\n",
        "      <td> 0.022732</td>\n",
        "    </tr>\n",
        "    <tr>\n",
        "      <th>4 </th>\n",
        "      <td> 4005121</td>\n",
        "      <td>  9983</td>\n",
        "      <td> 20160706</td>\n",
        "      <td> 0.011892</td>\n",
        "    </tr>\n",
        "    <tr>\n",
        "      <th>5 </th>\n",
        "      <td> 4347394</td>\n",
        "      <td>  9983</td>\n",
        "      <td> 20160716</td>\n",
        "      <td> 0.011548</td>\n",
        "    </tr>\n",
        "    <tr>\n",
        "      <th>6 </th>\n",
        "      <td> 3094273</td>\n",
        "      <td> 13602</td>\n",
        "      <td> 20160727</td>\n",
        "      <td> 0.012175</td>\n",
        "    </tr>\n",
        "    <tr>\n",
        "      <th>7 </th>\n",
        "      <td> 5139970</td>\n",
        "      <td>  9983</td>\n",
        "      <td> 20160729</td>\n",
        "      <td> 0.008231</td>\n",
        "    </tr>\n",
        "    <tr>\n",
        "      <th>8 </th>\n",
        "      <td> 3237121</td>\n",
        "      <td> 13602</td>\n",
        "      <td> 20160703</td>\n",
        "      <td> 0.011708</td>\n",
        "    </tr>\n",
        "    <tr>\n",
        "      <th>9 </th>\n",
        "      <td> 6224386</td>\n",
        "      <td>  9983</td>\n",
        "      <td> 20160716</td>\n",
        "      <td> 0.008361</td>\n",
        "    </tr>\n",
        "    <tr>\n",
        "      <th>10</th>\n",
        "      <td> 6488578</td>\n",
        "      <td> 13602</td>\n",
        "      <td> 20160712</td>\n",
        "      <td> 0.955936</td>\n",
        "    </tr>\n",
        "    <tr>\n",
        "      <th>11</th>\n",
        "      <td> 4164865</td>\n",
        "      <td>  9983</td>\n",
        "      <td> 20160703</td>\n",
        "      <td> 0.009221</td>\n",
        "    </tr>\n",
        "    <tr>\n",
        "      <th>12</th>\n",
        "      <td> 4164865</td>\n",
        "      <td>  8059</td>\n",
        "      <td> 20160706</td>\n",
        "      <td> 0.012183</td>\n",
        "    </tr>\n",
        "    <tr>\n",
        "      <th>13</th>\n",
        "      <td> 5468674</td>\n",
        "      <td>  9983</td>\n",
        "      <td> 20160713</td>\n",
        "      <td> 0.012769</td>\n",
        "    </tr>\n",
        "    <tr>\n",
        "      <th>14</th>\n",
        "      <td> 6258178</td>\n",
        "      <td>  9144</td>\n",
        "      <td> 20160706</td>\n",
        "      <td> 0.028317</td>\n",
        "    </tr>\n",
        "    <tr>\n",
        "      <th>15</th>\n",
        "      <td> 3659521</td>\n",
        "      <td>  7341</td>\n",
        "      <td> 20160727</td>\n",
        "      <td> 0.009160</td>\n",
        "    </tr>\n",
        "    <tr>\n",
        "      <th>16</th>\n",
        "      <td> 3659521</td>\n",
        "      <td> 13181</td>\n",
        "      <td> 20160717</td>\n",
        "      <td> 0.013944</td>\n",
        "    </tr>\n",
        "    <tr>\n",
        "      <th>17</th>\n",
        "      <td> 3659521</td>\n",
        "      <td> 13602</td>\n",
        "      <td> 20160718</td>\n",
        "      <td> 0.013822</td>\n",
        "    </tr>\n",
        "    <tr>\n",
        "      <th>18</th>\n",
        "      <td> 7333378</td>\n",
        "      <td> 13602</td>\n",
        "      <td> 20160704</td>\n",
        "      <td> 0.356562</td>\n",
        "    </tr>\n",
        "    <tr>\n",
        "      <th>19</th>\n",
        "      <td> 7333378</td>\n",
        "      <td>   785</td>\n",
        "      <td> 20160727</td>\n",
        "      <td> 0.390565</td>\n",
        "    </tr>\n",
        "  </tbody>\n",
        "</table>\n",
        "<p>20 rows \u00d7 4 columns</p>\n",
        "</div>"
       ],
       "metadata": {},
       "output_type": "pyout",
       "prompt_number": 188,
       "text": [
        "    4129537   9983  20160712  0.010785116880387266\n",
        "0   6949378   3429  20160706              0.966164\n",
        "1   2166529   6928  20160727              0.004761\n",
        "2   2166529   1808  20160727              0.005148\n",
        "3   6172162   6500  20160708              0.022732\n",
        "4   4005121   9983  20160706              0.011892\n",
        "5   4347394   9983  20160716              0.011548\n",
        "6   3094273  13602  20160727              0.012175\n",
        "7   5139970   9983  20160729              0.008231\n",
        "8   3237121  13602  20160703              0.011708\n",
        "9   6224386   9983  20160716              0.008361\n",
        "10  6488578  13602  20160712              0.955936\n",
        "11  4164865   9983  20160703              0.009221\n",
        "12  4164865   8059  20160706              0.012183\n",
        "13  5468674   9983  20160713              0.012769\n",
        "14  6258178   9144  20160706              0.028317\n",
        "15  3659521   7341  20160727              0.009160\n",
        "16  3659521  13181  20160717              0.013944\n",
        "17  3659521  13602  20160718              0.013822\n",
        "18  7333378  13602  20160704              0.356562\n",
        "19  7333378    785  20160727              0.390565\n",
        "\n",
        "[20 rows x 4 columns]"
       ]
      }
     ],
     "prompt_number": 188
    },
    {
     "cell_type": "code",
     "collapsed": false,
     "input": [
      "ff2 = pd.read_csv('result_logistic_v1.0.csv')"
     ],
     "language": "python",
     "metadata": {},
     "outputs": [],
     "prompt_number": 189
    },
    {
     "cell_type": "code",
     "collapsed": false,
     "input": [
      "ff2[:20]"
     ],
     "language": "python",
     "metadata": {},
     "outputs": [
      {
       "html": [
        "<div style=\"max-height:1000px;max-width:1500px;overflow:auto;\">\n",
        "<table border=\"1\" class=\"dataframe\">\n",
        "  <thead>\n",
        "    <tr style=\"text-align: right;\">\n",
        "      <th></th>\n",
        "      <th>4129537</th>\n",
        "      <th>9983</th>\n",
        "      <th>20160712</th>\n",
        "      <th>0.010756054144602331</th>\n",
        "    </tr>\n",
        "  </thead>\n",
        "  <tbody>\n",
        "    <tr>\n",
        "      <th>0 </th>\n",
        "      <td> 6949378</td>\n",
        "      <td>  3429</td>\n",
        "      <td> 20160706</td>\n",
        "      <td> 0.931783</td>\n",
        "    </tr>\n",
        "    <tr>\n",
        "      <th>1 </th>\n",
        "      <td> 2166529</td>\n",
        "      <td>  6928</td>\n",
        "      <td> 20160727</td>\n",
        "      <td> 0.005521</td>\n",
        "    </tr>\n",
        "    <tr>\n",
        "      <th>2 </th>\n",
        "      <td> 2166529</td>\n",
        "      <td>  1808</td>\n",
        "      <td> 20160727</td>\n",
        "      <td> 0.005981</td>\n",
        "    </tr>\n",
        "    <tr>\n",
        "      <th>3 </th>\n",
        "      <td> 6172162</td>\n",
        "      <td>  6500</td>\n",
        "      <td> 20160708</td>\n",
        "      <td> 0.024372</td>\n",
        "    </tr>\n",
        "    <tr>\n",
        "      <th>4 </th>\n",
        "      <td> 4005121</td>\n",
        "      <td>  9983</td>\n",
        "      <td> 20160706</td>\n",
        "      <td> 0.011402</td>\n",
        "    </tr>\n",
        "    <tr>\n",
        "      <th>5 </th>\n",
        "      <td> 4347394</td>\n",
        "      <td>  9983</td>\n",
        "      <td> 20160716</td>\n",
        "      <td> 0.011086</td>\n",
        "    </tr>\n",
        "    <tr>\n",
        "      <th>6 </th>\n",
        "      <td> 3094273</td>\n",
        "      <td> 13602</td>\n",
        "      <td> 20160727</td>\n",
        "      <td> 0.012214</td>\n",
        "    </tr>\n",
        "    <tr>\n",
        "      <th>7 </th>\n",
        "      <td> 5139970</td>\n",
        "      <td>  9983</td>\n",
        "      <td> 20160729</td>\n",
        "      <td> 0.011812</td>\n",
        "    </tr>\n",
        "    <tr>\n",
        "      <th>8 </th>\n",
        "      <td> 3237121</td>\n",
        "      <td> 13602</td>\n",
        "      <td> 20160703</td>\n",
        "      <td> 0.011765</td>\n",
        "    </tr>\n",
        "    <tr>\n",
        "      <th>9 </th>\n",
        "      <td> 6224386</td>\n",
        "      <td>  9983</td>\n",
        "      <td> 20160716</td>\n",
        "      <td> 0.009046</td>\n",
        "    </tr>\n",
        "    <tr>\n",
        "      <th>10</th>\n",
        "      <td> 6488578</td>\n",
        "      <td> 13602</td>\n",
        "      <td> 20160712</td>\n",
        "      <td> 0.956088</td>\n",
        "    </tr>\n",
        "    <tr>\n",
        "      <th>11</th>\n",
        "      <td> 4164865</td>\n",
        "      <td>  9983</td>\n",
        "      <td> 20160703</td>\n",
        "      <td> 0.009590</td>\n",
        "    </tr>\n",
        "    <tr>\n",
        "      <th>12</th>\n",
        "      <td> 4164865</td>\n",
        "      <td>  8059</td>\n",
        "      <td> 20160706</td>\n",
        "      <td> 0.012267</td>\n",
        "    </tr>\n",
        "    <tr>\n",
        "      <th>13</th>\n",
        "      <td> 5468674</td>\n",
        "      <td>  9983</td>\n",
        "      <td> 20160713</td>\n",
        "      <td> 0.015378</td>\n",
        "    </tr>\n",
        "    <tr>\n",
        "      <th>14</th>\n",
        "      <td> 6258178</td>\n",
        "      <td>  9144</td>\n",
        "      <td> 20160706</td>\n",
        "      <td> 0.027837</td>\n",
        "    </tr>\n",
        "    <tr>\n",
        "      <th>15</th>\n",
        "      <td> 3659521</td>\n",
        "      <td>  7341</td>\n",
        "      <td> 20160727</td>\n",
        "      <td> 0.011301</td>\n",
        "    </tr>\n",
        "    <tr>\n",
        "      <th>16</th>\n",
        "      <td> 3659521</td>\n",
        "      <td> 13181</td>\n",
        "      <td> 20160717</td>\n",
        "      <td> 0.015322</td>\n",
        "    </tr>\n",
        "    <tr>\n",
        "      <th>17</th>\n",
        "      <td> 3659521</td>\n",
        "      <td> 13602</td>\n",
        "      <td> 20160718</td>\n",
        "      <td> 0.013316</td>\n",
        "    </tr>\n",
        "    <tr>\n",
        "      <th>18</th>\n",
        "      <td> 7333378</td>\n",
        "      <td> 13602</td>\n",
        "      <td> 20160704</td>\n",
        "      <td> 0.352599</td>\n",
        "    </tr>\n",
        "    <tr>\n",
        "      <th>19</th>\n",
        "      <td> 7333378</td>\n",
        "      <td>   785</td>\n",
        "      <td> 20160727</td>\n",
        "      <td> 0.397947</td>\n",
        "    </tr>\n",
        "  </tbody>\n",
        "</table>\n",
        "<p>20 rows \u00d7 4 columns</p>\n",
        "</div>"
       ],
       "metadata": {},
       "output_type": "pyout",
       "prompt_number": 190,
       "text": [
        "    4129537   9983  20160712  0.010756054144602331\n",
        "0   6949378   3429  20160706              0.931783\n",
        "1   2166529   6928  20160727              0.005521\n",
        "2   2166529   1808  20160727              0.005981\n",
        "3   6172162   6500  20160708              0.024372\n",
        "4   4005121   9983  20160706              0.011402\n",
        "5   4347394   9983  20160716              0.011086\n",
        "6   3094273  13602  20160727              0.012214\n",
        "7   5139970   9983  20160729              0.011812\n",
        "8   3237121  13602  20160703              0.011765\n",
        "9   6224386   9983  20160716              0.009046\n",
        "10  6488578  13602  20160712              0.956088\n",
        "11  4164865   9983  20160703              0.009590\n",
        "12  4164865   8059  20160706              0.012267\n",
        "13  5468674   9983  20160713              0.015378\n",
        "14  6258178   9144  20160706              0.027837\n",
        "15  3659521   7341  20160727              0.011301\n",
        "16  3659521  13181  20160717              0.015322\n",
        "17  3659521  13602  20160718              0.013316\n",
        "18  7333378  13602  20160704              0.352599\n",
        "19  7333378    785  20160727              0.397947\n",
        "\n",
        "[20 rows x 4 columns]"
       ]
      }
     ],
     "prompt_number": 190
    },
    {
     "cell_type": "code",
     "collapsed": false,
     "input": [],
     "language": "python",
     "metadata": {},
     "outputs": []
    }
   ],
   "metadata": {}
  }
 ]
}