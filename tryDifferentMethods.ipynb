{
 "metadata": {
  "name": ""
 },
 "nbformat": 3,
 "nbformat_minor": 0,
 "worksheets": [
  {
   "cells": [
    {
     "cell_type": "code",
     "collapsed": false,
     "input": [
      "%matplotlib inline\n",
      "import numpy as np\n",
      "import pandas as pd\n",
      "import time\n",
      "from sklearn.metrics import auc_score\n",
      "from sklearn.cross_validation import train_test_split\n",
      "from sklearn.ensemble import RandomForestClassifier"
     ],
     "language": "python",
     "metadata": {},
     "outputs": [],
     "prompt_number": 34
    },
    {
     "cell_type": "code",
     "collapsed": false,
     "input": [
      "# \u8fd4\u56deAUC\u503c\n",
      "def get_auc(y, y_pred_proba):\n",
      "    score = auc_score(y, y_pred_proba)\n",
      "    print score"
     ],
     "language": "python",
     "metadata": {},
     "outputs": [],
     "prompt_number": 194
    },
    {
     "cell_type": "markdown",
     "metadata": {},
     "source": [
      "# Distance\u968f\u673a\u751f\u6210\u8ddd\u79bb"
     ]
    },
    {
     "cell_type": "code",
     "collapsed": false,
     "input": [
      "train = pd.read_csv('offlineTrainfeatures.csv')"
     ],
     "language": "python",
     "metadata": {},
     "outputs": [],
     "prompt_number": 5
    },
    {
     "cell_type": "code",
     "collapsed": false,
     "input": [
      "train.Distance.value_counts().plot(kind='bar')"
     ],
     "language": "python",
     "metadata": {},
     "outputs": [
      {
       "metadata": {},
       "output_type": "pyout",
       "prompt_number": 13,
       "text": [
        "<matplotlib.axes.AxesSubplot at 0x7fc5189a4150>"
       ]
      },
      {
       "metadata": {},
       "output_type": "display_data",
       "png": "[encoded data removed]",
       "text": [
        "<matplotlib.figure.Figure at 0x7fc518934750>"
       ]
      }
     ],
     "prompt_number": 13
    },
    {
     "cell_type": "code",
     "collapsed": false,
     "input": [
      "gbd = train.groupby(train.Distance)"
     ],
     "language": "python",
     "metadata": {},
     "outputs": [],
     "prompt_number": 15
    },
    {
     "cell_type": "code",
     "collapsed": false,
     "input": [
      "distance_prob = gbd.size()[0:11] / sum(train.Distance!=11)"
     ],
     "language": "python",
     "metadata": {},
     "outputs": [],
     "prompt_number": 17
    },
    {
     "cell_type": "code",
     "collapsed": false,
     "input": [
      "import random"
     ],
     "language": "python",
     "metadata": {},
     "outputs": [],
     "prompt_number": 18
    },
    {
     "cell_type": "code",
     "collapsed": false,
     "input": [
      "# \u4ea7\u751f0-10\u7684\u8ddd\u79bb\u968f\u673a\u6570\n",
      "def generateRandomDistance():\n",
      "    r = random.random()\n",
      "    for i, w in enumerate(distance_prob):\n",
      "        r = r - w\n",
      "        if r < 0: return i"
     ],
     "language": "python",
     "metadata": {},
     "outputs": [],
     "prompt_number": 19
    },
    {
     "cell_type": "code",
     "collapsed": false,
     "input": [
      "train.Distance = train.Distance.map(lambda x: generateRandomDistance() if x==11 else x)"
     ],
     "language": "python",
     "metadata": {},
     "outputs": [],
     "prompt_number": 20
    },
    {
     "cell_type": "code",
     "collapsed": false,
     "input": [
      "train.to_csv('offlineTrainfeaturesDistanceRandom.csv', index=False)"
     ],
     "language": "python",
     "metadata": {},
     "outputs": [],
     "prompt_number": 21
    },
    {
     "cell_type": "code",
     "collapsed": false,
     "input": [
      "train.Distance.value_counts().plot(kind='bar')offline[:10]"
     ],
     "language": "python",
     "metadata": {},
     "outputs": [
      {
       "metadata": {},
       "output_type": "pyout",
       "prompt_number": 22,
       "text": [
        "<matplotlib.axes.AxesSubplot at 0x7fc518968d50>"
       ]
      },
      {
       "metadata": {},
       "output_type": "display_data",
       "png": "[encoded data removed]",
       "text": [
        "<matplotlib.figure.Figure at 0x7fc5188abc90>"
       ]
      }
     ],
     "prompt_number": 22
    },
    {
     "cell_type": "code",
     "collapsed": false,
     "input": [
      "test = pd.read_csv('offlineTestfeatures.csv')"
     ],
     "language": "python",
     "metadata": {},
     "outputs": [],
     "prompt_number": 23
    },
    {
     "cell_type": "code",
     "collapsed": false,
     "input": [
      "test.Distance = test.Distance.map(lambda x: generateRandomDistance() if x==11 else x)"
     ],
     "language": "python",
     "metadata": {},
     "outputs": [],
     "prompt_number": 24
    },
    {
     "cell_type": "code",
     "collapsed": false,
     "input": [
      "test.to_csv('offlineTestfeaturesDistanceRandom.csv', index=False)"
     ],
     "language": "python",
     "metadata": {},
     "outputs": [],
     "prompt_number": 25
    },
    {
     "cell_type": "code",
     "collapsed": false,
     "input": [
      "x = train[[\"Distance\",\"week\",\"userRate\",\"merchantRate\",\"discountRate\"]]\n",
      "y = train.result\n",
      "x_predict = test[[\"Distance\",\"week\",\"userRate\",\"merchantRate\",\"discountRate\"]]"
     ],
     "language": "python",
     "metadata": {},
     "outputs": [],
     "prompt_number": 26
    },
    {
     "cell_type": "code",
     "collapsed": false,
     "input": [
      "def processOfflineTest(file):\n",
      "    offlineTest = pd.read_csv(file, header=None)\n",
      "    offlineTest.columns = ['User_id', 'Merchant_id', 'Coupon_id', 'Discount_rate', 'Distance', 'Date_received']\n",
      "    offlineTest['week'] = offlineTest['Date_received'].map(lambda x: time.strptime(str(x), '%Y%m%d')[6]).astype(int)\n",
      "    offlineTest['week'] = offlineTest['week'].fillna(7) #7\u4ee3\u8868\u65e5\u671f\u4e3a\u7a7a\n",
      "\n",
      "    offlineTest['Distance'] = offlineTest['Distance'].map(lambda x: 11 if x=='null' else x)\n",
      "    return offlineTest"
     ],
     "language": "python",
     "metadata": {},
     "outputs": [],
     "prompt_number": 27
    },
    {
     "cell_type": "code",
     "collapsed": false,
     "input": [
      "offlineTest = processOfflineTest('ccf_offline_stage1_test_revised.csv')"
     ],
     "language": "python",
     "metadata": {},
     "outputs": [],
     "prompt_number": 28
    },
    {
     "cell_type": "code",
     "collapsed": false,
     "input": [
      "x_train, x_test, y_train, y_test = train_test_split(x, y, random_state=42)"
     ],
     "language": "python",
     "metadata": {},
     "outputs": [],
     "prompt_number": 29
    },
    {
     "cell_type": "markdown",
     "metadata": {},
     "source": [
      "# LogisticRegression"
     ]
    },
    {
     "cell_type": "code",
     "collapsed": false,
     "input": [
      "from sklearn.linear_model import LogisticRegression as LR"
     ],
     "language": "python",
     "metadata": {},
     "outputs": [],
     "prompt_number": 158
    },
    {
     "cell_type": "code",
     "collapsed": false,
     "input": [
      "model = LR()"
     ],
     "language": "python",
     "metadata": {},
     "outputs": [],
     "prompt_number": 159
    },
    {
     "cell_type": "code",
     "collapsed": false,
     "input": [
      "model.fit(x.values, y.values)"
     ],
     "language": "python",
     "metadata": {},
     "outputs": [
      {
       "metadata": {},
       "output_type": "pyout",
       "prompt_number": 160,
       "text": [
        "LogisticRegression(C=1.0, class_weight=None, dual=False, fit_intercept=True,\n",
        "          intercept_scaling=1, penalty='l2', random_state=None, tol=0.0001)"
       ]
      }
     ],
     "prompt_number": 160
    },
    {
     "cell_type": "code",
     "collapsed": false,
     "input": [
      "y_predict = pd.DataFrame(model.predict_proba(x_predict.values))[1]"
     ],
     "language": "python",
     "metadata": {},
     "outputs": [],
     "prompt_number": 181
    },
    {
     "cell_type": "code",
     "collapsed": false,
     "input": [
      "offlineTest['result'] = y_predict"
     ],
     "language": "python",
     "metadata": {},
     "outputs": [],
     "prompt_number": 183
    },
    {
     "cell_type": "code",
     "collapsed": false,
     "input": [
      "result = offlineTest[['User_id', 'Coupon_id', 'Date_received', 'result']]"
     ],
     "language": "python",
     "metadata": {},
     "outputs": [],
     "prompt_number": 184
    },
    {
     "cell_type": "code",
     "collapsed": false,
     "input": [
      "result.to_csv('result_logistic_distanceRandom_v5.csv', index=False, header=None)"
     ],
     "language": "python",
     "metadata": {},
     "outputs": [],
     "prompt_number": 186
    },
    {
     "cell_type": "code",
     "collapsed": false,
     "input": [
      "ff = pd.read_csv('result_logistic_distanceRandom_v5.csv')"
     ],
     "language": "python",
     "metadata": {},
     "outputs": [],
     "prompt_number": 209
    },
    {
     "cell_type": "markdown",
     "metadata": {},
     "source": [
      "# \u7528\u6237ID,\u5546\u6237ID \u4f7f\u7528\u5238\u6b21\u6570\uff0c\u6d88\u8d39\u6b21\u6570"
     ]
    },
    {
     "cell_type": "code",
     "collapsed": false,
     "input": [
      "offline = pd.read_csv('ccf_offline_stage1_train.csv')"
     ],
     "language": "python",
     "metadata": {},
     "outputs": [],
     "prompt_number": 30
    },
    {
     "cell_type": "code",
     "collapsed": false,
     "input": [
      "offline2 = pd.read_csv('offlineTrainfeatures.csv')"
     ],
     "language": "python",
     "metadata": {},
     "outputs": [],
     "prompt_number": 32
    },
    {
     "cell_type": "code",
     "collapsed": false,
     "input": [
      "offline2[:10]"
     ],
     "language": "python",
     "metadata": {},
     "outputs": [
      {
       "html": [
        "<div style=\"max-height:1000px;max-width:1500px;overflow:auto;\">\n",
        "<table border=\"1\" class=\"dataframe\">\n",
        "  <thead>\n",
        "    <tr style=\"text-align: right;\">\n",
        "      <th></th>\n",
        "      <th>Unnamed: 0</th>\n",
        "      <th>Distance</th>\n",
        "      <th>result</th>\n",
        "      <th>week</th>\n",
        "      <th>userRate</th>\n",
        "      <th>merchantRate</th>\n",
        "      <th>discountRate</th>\n",
        "    </tr>\n",
        "  </thead>\n",
        "  <tbody>\n",
        "    <tr>\n",
        "      <th>0</th>\n",
        "      <td>  1</td>\n",
        "      <td>  1</td>\n",
        "      <td> 0</td>\n",
        "      <td> 5</td>\n",
        "      <td> 0.2</td>\n",
        "      <td> 0.005003</td>\n",
        "      <td> 0.013706</td>\n",
        "    </tr>\n",
        "    <tr>\n",
        "      <th>1</th>\n",
        "      <td>  2</td>\n",
        "      <td>  0</td>\n",
        "      <td> 0</td>\n",
        "      <td> 2</td>\n",
        "      <td> 0.2</td>\n",
        "      <td> 0.093023</td>\n",
        "      <td> 0.160139</td>\n",
        "    </tr>\n",
        "    <tr>\n",
        "      <th>2</th>\n",
        "      <td>  3</td>\n",
        "      <td>  0</td>\n",
        "      <td> 0</td>\n",
        "      <td> 5</td>\n",
        "      <td> 0.2</td>\n",
        "      <td> 0.093023</td>\n",
        "      <td> 0.160139</td>\n",
        "    </tr>\n",
        "    <tr>\n",
        "      <th>3</th>\n",
        "      <td>  4</td>\n",
        "      <td>  0</td>\n",
        "      <td> 0</td>\n",
        "      <td> 0</td>\n",
        "      <td> 0.2</td>\n",
        "      <td> 0.093023</td>\n",
        "      <td> 0.160139</td>\n",
        "    </tr>\n",
        "    <tr>\n",
        "      <th>4</th>\n",
        "      <td>  6</td>\n",
        "      <td>  0</td>\n",
        "      <td> 0</td>\n",
        "      <td> 0</td>\n",
        "      <td> 0.2</td>\n",
        "      <td> 0.093023</td>\n",
        "      <td> 0.160139</td>\n",
        "    </tr>\n",
        "    <tr>\n",
        "      <th>5</th>\n",
        "      <td>  7</td>\n",
        "      <td>  0</td>\n",
        "      <td> 0</td>\n",
        "      <td> 4</td>\n",
        "      <td> 0.0</td>\n",
        "      <td> 0.020247</td>\n",
        "      <td> 0.015588</td>\n",
        "    </tr>\n",
        "    <tr>\n",
        "      <th>6</th>\n",
        "      <td>  8</td>\n",
        "      <td>  1</td>\n",
        "      <td> 0</td>\n",
        "      <td> 4</td>\n",
        "      <td> 0.0</td>\n",
        "      <td> 0.020247</td>\n",
        "      <td> 0.015588</td>\n",
        "    </tr>\n",
        "    <tr>\n",
        "      <th>7</th>\n",
        "      <td>  9</td>\n",
        "      <td>  0</td>\n",
        "      <td> 0</td>\n",
        "      <td> 0</td>\n",
        "      <td> 0.0</td>\n",
        "      <td> 0.023175</td>\n",
        "      <td> 0.086321</td>\n",
        "    </tr>\n",
        "    <tr>\n",
        "      <th>8</th>\n",
        "      <td> 10</td>\n",
        "      <td>  0</td>\n",
        "      <td> 0</td>\n",
        "      <td> 3</td>\n",
        "      <td> 0.0</td>\n",
        "      <td> 0.000000</td>\n",
        "      <td> 0.160139</td>\n",
        "    </tr>\n",
        "    <tr>\n",
        "      <th>9</th>\n",
        "      <td> 13</td>\n",
        "      <td> 11</td>\n",
        "      <td> 0</td>\n",
        "      <td> 0</td>\n",
        "      <td> 0.0</td>\n",
        "      <td> 0.071583</td>\n",
        "      <td> 0.043652</td>\n",
        "    </tr>\n",
        "  </tbody>\n",
        "</table>\n",
        "<p>10 rows \u00d7 7 columns</p>\n",
        "</div>"
       ],
       "metadata": {},
       "output_type": "pyout",
       "prompt_number": 33,
       "text": [
        "   Unnamed: 0  Distance  result  week  userRate  merchantRate  discountRate\n",
        "0           1         1       0     5       0.2      0.005003      0.013706\n",
        "1           2         0       0     2       0.2      0.093023      0.160139\n",
        "2           3         0       0     5       0.2      0.093023      0.160139\n",
        "3           4         0       0     0       0.2      0.093023      0.160139\n",
        "4           6         0       0     0       0.2      0.093023      0.160139\n",
        "5           7         0       0     4       0.0      0.020247      0.015588\n",
        "6           8         1       0     4       0.0      0.020247      0.015588\n",
        "7           9         0       0     0       0.0      0.023175      0.086321\n",
        "8          10         0       0     3       0.0      0.000000      0.160139\n",
        "9          13        11       0     0       0.0      0.071583      0.043652\n",
        "\n",
        "[10 rows x 7 columns]"
       ]
      }
     ],
     "prompt_number": 33
    },
    {
     "cell_type": "markdown",
     "metadata": {},
     "source": [
      "# RandomForest"
     ]
    },
    {
     "cell_type": "code",
     "collapsed": false,
     "input": [
      "rfc = RandomForestClassifier(n_estimators=500, min_samples_leaf=12)"
     ],
     "language": "python",
     "metadata": {},
     "outputs": [],
     "prompt_number": 46
    },
    {
     "cell_type": "code",
     "collapsed": false,
     "input": [
      "rfc.fit(x.values, y.values)"
     ],
     "language": "python",
     "metadata": {},
     "outputs": [
      {
       "metadata": {},
       "output_type": "pyout",
       "prompt_number": 47,
       "text": [
        "RandomForestClassifier(bootstrap=True, compute_importances=None,\n",
        "            criterion='gini', max_depth=None, max_features='auto',\n",
        "            min_density=None, min_samples_leaf=12, min_samples_split=2,\n",
        "            n_estimators=500, n_jobs=1, oob_score=False, random_state=None,\n",
        "            verbose=0)"
       ]
      },
      {
       "metadata": {},
       "output_type": "pyout",
       "prompt_number": 50,
       "text": [
        "RandomForestClassifier(bootstrap=True, compute_importances=None,\n",
        "            criterion='gini', max_depth=None, max_features='auto',\n",
        "            min_density=None, min_samples_leaf=12, min_samples_split=2,\n",
        "            n_estimators=500, n_jobs=1, oob_score=False, random_state=None,\n",
        "            verbose=0)"
       ]
      }
     ],
     "prompt_number": 50
    },
    {
     "cell_type": "code",
     "collapsed": false,
     "input": [
      "aa = pd.read_csv('ccf_offline_stage1_train.csv', header=None)"
     ],
     "language": "python",
     "metadata": {},
     "outputs": [],
     "prompt_number": 53
    },
    {
     "cell_type": "code",
     "collapsed": false,
     "input": [
      "aa.columns = ['User_id', 'Merchant_id', 'Coupon_id', 'Discount_rate', 'Distance', 'Date_received', 'Date']"
     ],
     "language": "python",
     "metadata": {},
     "outputs": [],
     "prompt_number": 54
    },
    {
     "cell_type": "code",
     "collapsed": false,
     "input": [
      "sum((aa.Merchant_id==3381) & (aa.Date != 'null') & (aa.Date_received != 'null'))"
     ],
     "language": "python",
     "metadata": {},
     "outputs": [
      {
       "metadata": {},
       "output_type": "pyout",
       "prompt_number": 59,
       "text": [
        "2487"
       ]
      }
     ],
     "prompt_number": 59
    },
    {
     "cell_type": "code",
     "collapsed": false,
     "input": [],
     "language": "python",
     "metadata": {},
     "outputs": []
    }
   ],
   "metadata": {}
  }
 ]
}