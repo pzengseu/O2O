{
 "cells": [
  {
   "cell_type": "code",
   "execution_count": 4,
   "metadata": {
    "collapsed": false,
    "scrolled": false
   },
   "outputs": [
    {
     "name": "stdout",
     "output_type": "stream",
     "text": [
      "Populating the interactive namespace from numpy and matplotlib\n"
     ]
    }
   ],
   "source": [
    "%pylab inline\n",
    "import pandas as pd\n",
    "import numpy as np\n",
    "import time"
   ]
  },
  {
   "cell_type": "code",
   "execution_count": 12,
   "metadata": {
    "collapsed": false
   },
   "outputs": [],
   "source": [
    "def processOfflineTrain(file):\n",
    "    offline = pd.read_csv(file, header=None)\n",
    "    offline.columns = ['User_id', 'Merchant_id', 'Coupon_id', 'Discount_rate', 'Distance', 'Date_received', 'Date']\n",
    "    offline = offline[offline['Coupon_id'] != 'null']\n",
    "    offline['result'] = [0] * len(offline)\n",
    "\n",
    "    #将日期转化为星期\n",
    "    offline['week'] = offline['Date_received'].apply(lambda x: time.strptime(str(x), '%Y%m%d')[6])\n",
    "\n",
    "    #计算用户消费优惠券间隔天数\n",
    "    cost = offline[offline['Date'] != 'null']\n",
    "    offline['days'] = cost['Date'].apply(lambda x: int(time.strptime(str(x), '%Y%m%d')[7])) - \\\n",
    "                      cost['Date_received'].apply(lambda x: int(time.strptime(str(x), '%Y%m%d')[7]))\n",
    "    offline['days'] = offline['days'].fillna(1000)\n",
    "\n",
    "    #计算每条数据是否在规定日期内使用优惠券，1为正样本，0为负样本\n",
    "    offline['result'] = offline[offline['days'] <= 15]['days'].apply(lambda x: 1)\n",
    "    offline['result'] = offline['result'].fillna(0)\n",
    "    \n",
    "    #Distance为null,设为11\n",
    "    offline['Distance'] = offline['Distance'].map(lambda x:11 if x=='null' else x)\n",
    "    #不成熟的想法，运算速度奇慢\n",
    "    # for i in xrange(len(offline)):\n",
    "    #     if offline['Date_received'][i] != 'null':\n",
    "    #         receivedDay = time.strptime(offline['Date_received'][i], '%Y%m%d')\n",
    "    #         offline['week'][i] = receivedDay[6]\n",
    "    #         if offline['Date'][i] != 'null':\n",
    "    #             dateDay = time.strptime(offline['Date'][i], '%Y%m%d')\n",
    "    #             offline['days'][i] = int(dateDay[7])-int(receivedDay[7])\n",
    "    #             if offline['days'][i] <= 15: offline['result'][i] = 1\n",
    "    #             print i, offline['days'][i]\n",
    "\n",
    "    offline[['week', 'days', 'result', 'Distance']] = offline[['week', 'days', 'result', 'Distance']].astype(int)\n",
    "    # print offline.loc[:100, ['Date_received', 'Date', 'week', 'days', 'result']]\n",
    "    return offline"
   ]
  },
  {
   "cell_type": "code",
   "execution_count": 127,
   "metadata": {
    "collapsed": false
   },
   "outputs": [],
   "source": [
    "offline = processOfflineTrain('ccf_offline_stage1_train.csv')"
   ]
  },
  {
   "cell_type": "code",
   "execution_count": 20,
   "metadata": {
    "collapsed": true
   },
   "outputs": [],
   "source": [
    "#折扣率频率\n",
    "def processOfflineDiscountRate(offline):\n",
    "    discountDict = {}\n",
    "    discountRate = set(offline['Discount_rate'])\n",
    "    for d in discountRate:\n",
    "        discountDict[d] = 0\n",
    "        discount = offline[offline['Discount_rate'] == d]\n",
    "        totalSended = len(discount)\n",
    "        totalCosted = len(discount[discount['Date'] != 'null'])\n",
    "        rate = float(totalCosted) / totalSended\n",
    "\n",
    "        discountDict[d] = [totalSended, totalCosted, rate]\n",
    "\n",
    "    return discountDict"
   ]
  },
  {
   "cell_type": "code",
   "execution_count": 30,
   "metadata": {
    "collapsed": false
   },
   "outputs": [
    {
     "data": {
      "text/plain": [
       "<matplotlib.axes._subplots.AxesSubplot at 0x7ffa2b555650>"
      ]
     },
     "execution_count": 30,
     "metadata": {},
     "output_type": "execute_result"
    },
    {
     "data": {
      "image/png": "[encoded data removed]",
      "text/plain": [
       "<matplotlib.figure.Figure at 0x7ffa2b57ac10>"
      ]
     },
     "metadata": {},
     "output_type": "display_data"
    }
   ],
   "source": [
    "offline[offline['Date']!='null']['week'].value_counts().plot(kind='bar')"
   ]
  },
  {
   "cell_type": "code",
   "execution_count": 31,
   "metadata": {
    "collapsed": false
   },
   "outputs": [
    {
     "data": {
      "text/plain": [
       "<matplotlib.axes._subplots.AxesSubplot at 0x7ffa2b4cd250>"
      ]
     },
     "execution_count": 31,
     "metadata": {},
     "output_type": "execute_result"
    },
    {
     "data": {
      "image/png": "[encoded data removed]",
      "text/plain": [
       "<matplotlib.figure.Figure at 0x7ffa2b45cc90>"
      ]
     },
     "metadata": {},
     "output_type": "display_data"
    }
   ],
   "source": [
    "offline[offline['Date']!='null']['Distance'].value_counts().plot(kind='bar')"
   ]
  },
  {
   "cell_type": "code",
   "execution_count": 150,
   "metadata": {
    "collapsed": false
   },
   "outputs": [],
   "source": [
    "def generateFeatures(offline):\n",
    "    userDict = {}\n",
    "    merchantDict = {}\n",
    "    discountDict = {}\n",
    "    \n",
    "    ufile = file('userId.txt', 'r')\n",
    "    for line in ufile:\n",
    "        d = line.split()\n",
    "        userDict[d[0]] = d[3]\n",
    "    ufile.close()\n",
    "    \n",
    "    mfile = file('merchantId.txt', 'r')\n",
    "    for line in mfile:\n",
    "        d = line.split()\n",
    "        merchantDict[d[0]] = d[3]\n",
    "    mfile.close()\n",
    "    \n",
    "    dfile = file('discount.txt', 'r')\n",
    "    for line in dfile:\n",
    "        d = line.split()\n",
    "        discountDict[d[0]] = d[3]\n",
    "    dfile.close()\n",
    "    \n",
    "    offline['userRate'] = offline['User_id'].map(lambda x: userDict[str(x)])\n",
    "    offline['merchantRate'] = offline['Merchant_id'].map(lambda x: merchantDict[str(x)])\n",
    "    offline['discountRate'] = offline['Discount_rate'].map(lambda x: discountDict[str(x)])\n",
    "    \n",
    "    features = offline.drop(['User_id', 'Merchant_id', 'Coupon_id', 'Discount_rate', 'Date_received', 'Date', 'days'], \n",
    "                         axis=1)\n",
    "    features[['userRate', 'merchantRate', 'discountRate']] = features[['userRate', 'merchantRate', 'discountRate']].astype(float)\n",
    "    \n",
    "    features.to_csv('offlineTrainfeatures.csv')\n",
    "    return features"
   ]
  },
  {
   "cell_type": "code",
   "execution_count": 151,
   "metadata": {
    "collapsed": false
   },
   "outputs": [],
   "source": [
    "features = generateFeatures(offline)"
   ]
  },
  {
   "cell_type": "code",
   "execution_count": 135,
   "metadata": {
    "collapsed": false,
    "scrolled": true
   },
   "outputs": [
    {
     "data": {
      "text/plain": [
       "<matplotlib.axes._subplots.AxesSubplot at 0x7ffa2ae65ad0>"
      ]
     },
     "execution_count": 135,
     "metadata": {},
     "output_type": "execute_result"
    },
    {
     "data": {
      "image/png": "[encoded data removed]",
      "text/plain": [
       "<matplotlib.figure.Figure at 0x7ffa2b08b3d0>"
      ]
     },
     "metadata": {},
     "output_type": "display_data"
    }
   ],
   "source": [
    "offline['result'].value_counts().plot(kind='bar')"
   ]
  },
  {
   "cell_type": "code",
   "execution_count": 132,
   "metadata": {
    "collapsed": false
   },
   "outputs": [
    {
     "data": {
      "text/plain": [
       "User_id           int64\n",
       "Merchant_id       int64\n",
       "Coupon_id        object\n",
       "Discount_rate    object\n",
       "Distance          int64\n",
       "Date_received    object\n",
       "Date             object\n",
       "result            int64\n",
       "week              int64\n",
       "days              int64\n",
       "userRate         object\n",
       "merchantRate     object\n",
       "discountRate     object\n",
       "dtype: object"
      ]
     },
     "execution_count": 132,
     "metadata": {},
     "output_type": "execute_result"
    }
   ],
   "source": [
    "offline.dtypes"
   ]
  },
  {
   "cell_type": "code",
   "execution_count": 138,
   "metadata": {
    "collapsed": false
   },
   "outputs": [],
   "source": [
    "features = offline.drop(['User_id', 'Merchant_id', 'Coupon_id', 'Discount_rate', 'Date_received', 'Date', 'days'], \n",
    "                         axis=1)"
   ]
  },
  {
   "cell_type": "code",
   "execution_count": 139,
   "metadata": {
    "collapsed": false
   },
   "outputs": [
    {
     "data": {
      "text/plain": [
       "Distance         int64\n",
       "result           int64\n",
       "week             int64\n",
       "userRate        object\n",
       "merchantRate    object\n",
       "discountRate    object\n",
       "dtype: object"
      ]
     },
     "execution_count": 139,
     "metadata": {},
     "output_type": "execute_result"
    }
   ],
   "source": [
    "features.dtypes"
   ]
  },
  {
   "cell_type": "code",
   "execution_count": 141,
   "metadata": {
    "collapsed": false
   },
   "outputs": [
    {
     "data": {
      "text/plain": [
       "User_id           int64\n",
       "Merchant_id       int64\n",
       "Coupon_id        object\n",
       "Discount_rate    object\n",
       "Distance          int64\n",
       "Date_received    object\n",
       "Date             object\n",
       "result            int64\n",
       "week              int64\n",
       "days              int64\n",
       "userRate         object\n",
       "merchantRate     object\n",
       "discountRate     object\n",
       "dtype: object"
      ]
     },
     "execution_count": 141,
     "metadata": {},
     "output_type": "execute_result"
    }
   ],
   "source": [
    "offline.dtypes"
   ]
  },
  {
   "cell_type": "code",
   "execution_count": null,
   "metadata": {
    "collapsed": true
   },
   "outputs": [],
   "source": []
  }
 ],
 "metadata": {
  "kernelspec": {
   "display_name": "Python 2",
   "language": "python",
   "name": "python2"
  },
  "language_info": {
   "codemirror_mode": {
    "name": "ipython",
    "version": 2
   },
   "file_extension": ".py",
   "mimetype": "text/x-python",
   "name": "python",
   "nbconvert_exporter": "python",
   "pygments_lexer": "ipython2",
   "version": "2.7.11"
  }
 },
 "nbformat": 4,
 "nbformat_minor": 0
}
